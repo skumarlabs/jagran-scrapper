{
 "cells": [
  {
   "cell_type": "code",
   "execution_count": 1,
   "metadata": {},
   "outputs": [],
   "source": []
  },
  {
   "cell_type": "code",
   "execution_count": 3,
   "metadata": {},
   "outputs": [
    {
     "name": "stdout",
     "output_type": "stream",
     "text": [
      "Writing jagran.py\n"
     ]
    }
   ],
   "source": [
    "%%file jagran.py\n",
    "import scrapy\n",
    "class JagranSpider(scrapy.Spider):\n",
    "    name = \"articles\"\n",
    "    \n",
    "    def start_requests(self):\n",
    "        urls = [\"https://www.jagran.com/uttar-pradesh/lucknow-city-congress-in-the-mode-of-bharat-bachao-andolan-18118525.html\"]\n",
    "        for url in urls:\n",
    "            request = scrapy.Request(url=url, callback=self.parse)\n",
    "            request.meta['story_id'] = 1\n",
    "            yield request\n",
    "            \n",
    "        def parse(self, response):\n",
    "            page = response.url.split(\"/\")[-2]\n",
    "            story_id = response.meta['story_id']\n",
    "            filename = 'quotes-%s.html' % page\n",
    "            title = response.css('title::text').extract_first()\n",
    "            keywords = response.css(\"meta[name=news_keywords]::attr(content)\").extract_first()\n",
    "            description = response.css(\"meta[name=description]::attr(content)\").extract_first()\n",
    "            modified_date = response.css(\"meta[property='article:modified_date']::attr(content)\").extract_first()\n",
    "            article = response.css(\"div.articleBody > p\")\n",
    "            body = article[:-1].extract()\n",
    "            author = article[-1].css(\"strong::text\").extract_first() \n",
    "            yield title, body, author\n",
    "            self.log(\"saved file %s\" % filename)\n",
    "    "
   ]
  },
  {
   "cell_type": "code",
   "execution_count": null,
   "metadata": {},
   "outputs": [],
   "source": []
  }
 ],
 "metadata": {
  "kernelspec": {
   "display_name": "Python 3",
   "language": "python",
   "name": "python3"
  },
  "language_info": {
   "codemirror_mode": {
    "name": "ipython",
    "version": 3
   },
   "file_extension": ".py",
   "mimetype": "text/x-python",
   "name": "python",
   "nbconvert_exporter": "python",
   "pygments_lexer": "ipython3",
   "version": "3.5.2"
  }
 },
 "nbformat": 4,
 "nbformat_minor": 2
}
